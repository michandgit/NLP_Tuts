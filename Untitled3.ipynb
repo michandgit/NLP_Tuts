{
 "cells": [
  {
   "cell_type": "markdown",
   "id": "a097b98c",
   "metadata": {},
   "source": [
    "# WAP to implement n-gram smoothing"
   ]
  },
  {
   "cell_type": "code",
   "execution_count": 2,
   "id": "32c229a1",
   "metadata": {},
   "outputs": [],
   "source": [
    "from collections import Counter \n",
    "from nltk import ngrams\n",
    "from nltk.tokenize import word_tokenize \n",
    "\n",
    "def add_one_smoothing(corpus , n , text):\n",
    "    words = word_tokenize(text)\n",
    "    \n",
    "    n_grams = list(ngrams(words ,n))\n",
    "    \n",
    "    n_grams_counts = Counter(corpus)\n",
    "    total_unique_ngrams = len(n_grams_counts)\n",
    "    \n",
    "    probabilities = [(n_grams_counts[ngram]+1)/((total_unique_ngrams)+len(corpus)) for ngram in n_grams]\n",
    "    \n",
    "    return probabilities\n"
   ]
  },
  {
   "cell_type": "code",
   "execution_count": null,
   "id": "ad508239",
   "metadata": {},
   "outputs": [],
   "source": [
    "corpus = [\"the quick brown\",\"quick brown fox\" , \"brown fox jumps\" ,\"fox jumps over\", \"jumps over the\" , \"over the lazy\",\"the lazy dog\"]\n",
    "text = \"the quick brown fox jumps over the lazy dog\"\n",
    "n=2\n",
    "smoothed_probabilities = add_on"
   ]
  }
 ],
 "metadata": {
  "kernelspec": {
   "display_name": "Python 3 (ipykernel)",
   "language": "python",
   "name": "python3"
  },
  "language_info": {
   "codemirror_mode": {
    "name": "ipython",
    "version": 3
   },
   "file_extension": ".py",
   "mimetype": "text/x-python",
   "name": "python",
   "nbconvert_exporter": "python",
   "pygments_lexer": "ipython3",
   "version": "3.11.5"
  }
 },
 "nbformat": 4,
 "nbformat_minor": 5
}
