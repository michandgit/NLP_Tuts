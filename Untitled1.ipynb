{
 "cells": [
  {
   "cell_type": "markdown",
   "id": "7716e515",
   "metadata": {},
   "source": [
    "# Write a program for word generation"
   ]
  },
  {
   "cell_type": "code",
   "execution_count": 2,
   "id": "a238e573",
   "metadata": {},
   "outputs": [],
   "source": [
    "import random\n",
    "import string \n",
    "def generate_random_word(length):\n",
    "    l = string.ascii_lowercase\n",
    "    return ' '.join(random.choice(l) for i in range(length))\n",
    "\n",
    "try:\n",
    "    word_length = int(input(\"Enter the desired word length:\"))\n",
    "    if word_length <=0:\n",
    "        print(\"Word length must be a positive integer\")\n",
    "    else:\n",
    "        random_word = generate_random_word(word_length)\n",
    "        print(\"random word:\" , random_word)\n",
    "except ValueError:\n",
    "    print(\"Invalid input. Ple\")"
   ]
  },
  {
   "cell_type": "code",
   "execution_count": null,
   "id": "34912ced",
   "metadata": {},
   "outputs": [],
   "source": []
  }
 ],
 "metadata": {
  "kernelspec": {
   "display_name": "Python 3 (ipykernel)",
   "language": "python",
   "name": "python3"
  },
  "language_info": {
   "codemirror_mode": {
    "name": "ipython",
    "version": 3
   },
   "file_extension": ".py",
   "mimetype": "text/x-python",
   "name": "python",
   "nbconvert_exporter": "python",
   "pygments_lexer": "ipython3",
   "version": "3.11.5"
  }
 },
 "nbformat": 4,
 "nbformat_minor": 5
}
