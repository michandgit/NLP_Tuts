{
 "cells": [
  {
   "cell_type": "markdown",
   "id": "63b176ee",
   "metadata": {},
   "source": [
    "# Write a program for word generation"
   ]
  },
  {
   "cell_type": "code",
   "execution_count": 3,
   "id": "961d719d",
   "metadata": {},
   "outputs": [
    {
     "name": "stdout",
     "output_type": "stream",
     "text": [
      "Enter the desired word length:5\n",
      "random word: p s r a s\n"
     ]
    }
   ],
   "source": [
    "import random\n",
    "import string \n",
    "def generate_random_word(length):\n",
    "    l = string.ascii_lowercase\n",
    "    return ' '.join(random.choice(l) for i in range(length))\n",
    "\n",
    "try:\n",
    "    word_length = int(input(\"Enter the desired word length:\"))\n",
    "    if word_length <=0:\n",
    "        print(\"Word length must be a positive integer\")\n",
    "    else:\n",
    "        random_word = generate_random_word(word_length)\n",
    "        print(\"random word:\" , random_word)\n",
    "except ValueError:\n",
    "    print(\"Invalid input. Please enter a valid integer for word length\")"
   ]
  },
  {
   "cell_type": "code",
   "execution_count": null,
   "id": "57941497",
   "metadata": {},
   "outputs": [],
   "source": []
  }
 ],
 "metadata": {
  "kernelspec": {
   "display_name": "Python 3 (ipykernel)",
   "language": "python",
   "name": "python3"
  },
  "language_info": {
   "codemirror_mode": {
    "name": "ipython",
    "version": 3
   },
   "file_extension": ".py",
   "mimetype": "text/x-python",
   "name": "python",
   "nbconvert_exporter": "python",
   "pygments_lexer": "ipython3",
   "version": "3.11.5"
  }
 },
 "nbformat": 4,
 "nbformat_minor": 5
}
