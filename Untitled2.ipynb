{
 "cells": [
  {
   "cell_type": "markdown",
   "id": "7d59a740",
   "metadata": {},
   "source": [
    "# WAP to implement N-grams"
   ]
  },
  {
   "cell_type": "code",
   "execution_count": 1,
   "id": "a4b5dd69",
   "metadata": {},
   "outputs": [],
   "source": [
    "def generate_ngrams(text , n):\n",
    "    words = text.split()\n",
    "    ngrams=[]\n",
    "    for i in range(len(words)-n+1):\n",
    "        ngrams.append(words[i:i+n])\n",
    "    return ngrams"
   ]
  },
  {
   "cell_type": "code",
   "execution_count": null,
   "id": "30ea32f7",
   "metadata": {},
   "outputs": [],
   "source": [
    "text = input(\"enter a sentence for generating n-grams:\")\n",
    "n = int(input(\"Enter the desired n-fg\"))"
   ]
  }
 ],
 "metadata": {
  "kernelspec": {
   "display_name": "Python 3 (ipykernel)",
   "language": "python",
   "name": "python3"
  },
  "language_info": {
   "codemirror_mode": {
    "name": "ipython",
    "version": 3
   },
   "file_extension": ".py",
   "mimetype": "text/x-python",
   "name": "python",
   "nbconvert_exporter": "python",
   "pygments_lexer": "ipython3",
   "version": "3.11.5"
  }
 },
 "nbformat": 4,
 "nbformat_minor": 5
}
