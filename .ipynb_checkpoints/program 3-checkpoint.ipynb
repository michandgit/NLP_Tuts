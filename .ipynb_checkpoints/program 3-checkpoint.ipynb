{
 "cells": [
  {
   "cell_type": "markdown",
   "id": "75bc5d51",
   "metadata": {},
   "source": [
    "# WAP to implement N-grams"
   ]
  },
  {
   "cell_type": "code",
   "execution_count": 1,
   "id": "ad7f84d9",
   "metadata": {},
   "outputs": [],
   "source": [
    "def generate_ngrams(text , n):\n",
    "    words = text.split()\n",
    "    ngrams=[]\n",
    "    for i in range(len(words)-n+1):\n",
    "        ngrams.append(words[i:i+n])\n",
    "    return ngrams"
   ]
  },
  {
   "cell_type": "code",
   "execution_count": 2,
   "id": "837fec9d",
   "metadata": {},
   "outputs": [
    {
     "name": "stdout",
     "output_type": "stream",
     "text": [
      "enter a sentence for generating n-grams:A sentence is an array of multiple words arranged in a particular order.\n",
      "Enter the desired n-gram size:4\n",
      "['A', 'sentence', 'is', 'an']\n",
      "['sentence', 'is', 'an', 'array']\n",
      "['is', 'an', 'array', 'of']\n",
      "['an', 'array', 'of', 'multiple']\n",
      "['array', 'of', 'multiple', 'words']\n",
      "['of', 'multiple', 'words', 'arranged']\n",
      "['multiple', 'words', 'arranged', 'in']\n",
      "['words', 'arranged', 'in', 'a']\n",
      "['arranged', 'in', 'a', 'particular']\n",
      "['in', 'a', 'particular', 'order.']\n"
     ]
    }
   ],
   "source": [
    "text = input(\"enter a sentence for generating n-grams:\")\n",
    "n = int(input(\"Enter the desired n-gram size:\"))\n",
    "ngrams =generate_ngrams(text , n)\n",
    "for ngram in ngrams:\n",
    "    print(ngram)"
   ]
  },
  {
   "cell_type": "code",
   "execution_count": null,
   "id": "c7a1be14",
   "metadata": {},
   "outputs": [],
   "source": []
  }
 ],
 "metadata": {
  "kernelspec": {
   "display_name": "Python 3 (ipykernel)",
   "language": "python",
   "name": "python3"
  },
  "language_info": {
   "codemirror_mode": {
    "name": "ipython",
    "version": 3
   },
   "file_extension": ".py",
   "mimetype": "text/x-python",
   "name": "python",
   "nbconvert_exporter": "python",
   "pygments_lexer": "ipython3",
   "version": "3.11.5"
  }
 },
 "nbformat": 4,
 "nbformat_minor": 5
}
