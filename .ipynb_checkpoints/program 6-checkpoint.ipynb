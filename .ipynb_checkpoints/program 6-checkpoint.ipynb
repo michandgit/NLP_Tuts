{
 "cells": [
  {
   "cell_type": "markdown",
   "id": "d75de04a",
   "metadata": {},
   "source": [
    "# WAP to implement POS tagging:Viterbi Decoding"
   ]
  },
  {
   "cell_type": "code",
   "execution_count": 1,
   "id": "a04dc053",
   "metadata": {},
   "outputs": [],
   "source": [
    "import nltk\n",
    "from nltk.tag import hmm\n",
    "from nltk.corpus import treebank\n",
    "\n"
   ]
  },
  {
   "cell_type": "code",
   "execution_count": 2,
   "id": "1ede481b",
   "metadata": {},
   "outputs": [],
   "source": [
    "train_data = treebank.tagged_sents()[:3000]  \n",
    "hmm_model = hmm.HiddenMarkovModelTrainer().train(train_data)\n",
    "\n",
    "def viterbi_decode(sentence, model):\n",
    "    tokens = nltk.word_tokenize(sentence)\n",
    "    # Use the Viterbi algorithm to find the most likely sequence of POS tags\n",
    "    pos_tags = model.tag(tokens)\n",
    "    return pos_tags"
   ]
  },
  {
   "cell_type": "code",
   "execution_count": 4,
   "id": "eb449ed0",
   "metadata": {},
   "outputs": [
    {
     "name": "stdout",
     "output_type": "stream",
     "text": [
      "Input Sentence: The quick brown fox jumps over the lazy dog\n",
      "POS Tags (Viterbi Decoding): [('The', 'DT'), ('quick', 'JJ'), ('brown', 'NNP'), ('fox', 'NNP'), ('jumps', 'NNP'), ('over', 'NNP'), ('the', 'NNP'), ('lazy', 'NNP'), ('dog', 'NNP')]\n"
     ]
    }
   ],
   "source": [
    "input_sentence = \"The quick brown fox jumps over the lazy dog\"\n",
    "\n",
    "result = viterbi_decode(input_sentence, hmm_model)\n",
    "\n",
    "print(\"Input Sentence:\", input_sentence)\n",
    "print(\"POS Tags (Viterbi Decoding):\", result)"
   ]
  },
  {
   "cell_type": "code",
   "execution_count": null,
   "id": "7ddff68d",
   "metadata": {},
   "outputs": [],
   "source": []
  }
 ],
 "metadata": {
  "kernelspec": {
   "display_name": "Python 3 (ipykernel)",
   "language": "python",
   "name": "python3"
  },
  "language_info": {
   "codemirror_mode": {
    "name": "ipython",
    "version": 3
   },
   "file_extension": ".py",
   "mimetype": "text/x-python",
   "name": "python",
   "nbconvert_exporter": "python",
   "pygments_lexer": "ipython3",
   "version": "3.11.5"
  }
 },
 "nbformat": 4,
 "nbformat_minor": 5
}
