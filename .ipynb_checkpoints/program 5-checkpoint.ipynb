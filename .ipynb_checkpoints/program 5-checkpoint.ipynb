{
 "cells": [
  {
   "cell_type": "markdown",
   "id": "ed0ed6a5",
   "metadata": {},
   "source": [
    "# WAP to implement POS tagging: Hidden MArkov Model"
   ]
  },
  {
   "cell_type": "code",
   "execution_count": 1,
   "id": "62160cb2",
   "metadata": {},
   "outputs": [],
   "source": [
    "import nltk\n",
    "from nltk import HiddenMarkovModelTrainer\n",
    "from nltk.tag import hmm\n",
    "\n"
   ]
  },
  {
   "cell_type": "code",
   "execution_count": 2,
   "id": "d0c9293f",
   "metadata": {},
   "outputs": [],
   "source": [
    "data = [    [('The', 'DT'), ('quick', 'JJ'), ('brown', 'JJ'), ('fox', 'NN'), ('jumps', 'VBZ'), ('over', 'IN'), ('the', 'DT'), ('lazy', 'JJ'), ('dog', 'NN')]]"
   ]
  },
  {
   "cell_type": "code",
   "execution_count": 4,
   "id": "b4c96cb1",
   "metadata": {},
   "outputs": [
    {
     "name": "stdout",
     "output_type": "stream",
     "text": [
      "POS tags: [('The', 'DT'), ('lazy', 'DT'), ('cat', 'DT'), ('sleeps', 'DT'), ('peacefully', 'DT')]\n"
     ]
    },
    {
     "name": "stderr",
     "output_type": "stream",
     "text": [
      "C:\\Users\\hp\\anaconda3\\Lib\\site-packages\\nltk\\tag\\hmm.py:334: RuntimeWarning: overflow encountered in cast\n",
      "  X[i, j] = self._transitions[si].logprob(self._states[j])\n",
      "C:\\Users\\hp\\anaconda3\\Lib\\site-packages\\nltk\\tag\\hmm.py:336: RuntimeWarning: overflow encountered in cast\n",
      "  O[i, k] = self._output_logprob(si, self._symbols[k])\n",
      "C:\\Users\\hp\\anaconda3\\Lib\\site-packages\\nltk\\tag\\hmm.py:332: RuntimeWarning: overflow encountered in cast\n",
      "  P[i] = self._priors.logprob(si)\n",
      "C:\\Users\\hp\\anaconda3\\Lib\\site-packages\\nltk\\tag\\hmm.py:364: RuntimeWarning: overflow encountered in cast\n",
      "  O[i, k] = self._output_logprob(si, self._symbols[k])\n"
     ]
    }
   ],
   "source": [
    "trainer = HiddenMarkovModelTrainer()\n",
    "hmm_model = trainer.train(data)\n",
    "text = \"The lazy cat sleeps peacefully\"\n",
    "tokens = nltk.word_tokenize(text)\n",
    "pos_tags = hmm_model.tag(tokens)\n",
    "print(\"POS tags:\" , pos_tags)"
   ]
  },
  {
   "cell_type": "code",
   "execution_count": null,
   "id": "319e6b3d",
   "metadata": {},
   "outputs": [],
   "source": []
  }
 ],
 "metadata": {
  "kernelspec": {
   "display_name": "Python 3 (ipykernel)",
   "language": "python",
   "name": "python3"
  },
  "language_info": {
   "codemirror_mode": {
    "name": "ipython",
    "version": 3
   },
   "file_extension": ".py",
   "mimetype": "text/x-python",
   "name": "python",
   "nbconvert_exporter": "python",
   "pygments_lexer": "ipython3",
   "version": "3.11.5"
  }
 },
 "nbformat": 4,
 "nbformat_minor": 5
}
