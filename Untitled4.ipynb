{
 "cells": [
  {
   "cell_type": "markdown",
   "id": "cd9e2971",
   "metadata": {},
   "source": [
    "# WAP to implement POS tagging: Hidden MArkov Model"
   ]
  },
  {
   "cell_type": "code",
   "execution_count": 1,
   "id": "a0dd7d76",
   "metadata": {},
   "outputs": [],
   "source": [
    "import nltk\n",
    "from nltk import HiddenMarkovModelTrainer\n",
    "from nltk.tag import hmm\n",
    "\n"
   ]
  },
  {
   "cell_type": "code",
   "execution_count": 2,
   "id": "b4d03121",
   "metadata": {},
   "outputs": [],
   "source": [
    "data = [    [('The', 'DT'), ('quick', 'JJ'), ('brown', 'JJ'), ('fox', 'NN'), ('jumps', 'VBZ'), ('over', 'IN'), ('the', 'DT'), ('lazy', 'JJ'), ('dog', 'NN')]]"
   ]
  },
  {
   "cell_type": "code",
   "execution_count": 3,
   "id": "84fd26a9",
   "metadata": {},
   "outputs": [
    {
     "ename": "AssertionError",
     "evalue": "",
     "output_type": "error",
     "traceback": [
      "\u001b[1;31m---------------------------------------------------------------------------\u001b[0m",
      "\u001b[1;31mAssertionError\u001b[0m                            Traceback (most recent call last)",
      "Cell \u001b[1;32mIn[3], line 2\u001b[0m\n\u001b[0;32m      1\u001b[0m trainer \u001b[38;5;241m=\u001b[39m HiddenMarkovModelTrainer()\n\u001b[1;32m----> 2\u001b[0m hmm_model \u001b[38;5;241m=\u001b[39m \u001b[43mtrainer\u001b[49m\u001b[38;5;241;43m.\u001b[39;49m\u001b[43mtrain\u001b[49m\u001b[43m(\u001b[49m\u001b[43m)\u001b[49m\n",
      "File \u001b[1;32m~\\anaconda3\\Lib\\site-packages\\nltk\\tag\\hmm.py:874\u001b[0m, in \u001b[0;36mHiddenMarkovModelTrainer.train\u001b[1;34m(self, labeled_sequences, unlabeled_sequences, **kwargs)\u001b[0m\n\u001b[0;32m    857\u001b[0m \u001b[38;5;28;01mdef\u001b[39;00m \u001b[38;5;21mtrain\u001b[39m(\u001b[38;5;28mself\u001b[39m, labeled_sequences\u001b[38;5;241m=\u001b[39m\u001b[38;5;28;01mNone\u001b[39;00m, unlabeled_sequences\u001b[38;5;241m=\u001b[39m\u001b[38;5;28;01mNone\u001b[39;00m, \u001b[38;5;241m*\u001b[39m\u001b[38;5;241m*\u001b[39mkwargs):\n\u001b[0;32m    858\u001b[0m \u001b[38;5;250m    \u001b[39m\u001b[38;5;124;03m\"\"\"\u001b[39;00m\n\u001b[0;32m    859\u001b[0m \u001b[38;5;124;03m    Trains the HMM using both (or either of) supervised and unsupervised\u001b[39;00m\n\u001b[0;32m    860\u001b[0m \u001b[38;5;124;03m    techniques.\u001b[39;00m\n\u001b[1;32m   (...)\u001b[0m\n\u001b[0;32m    872\u001b[0m \u001b[38;5;124;03m    :param kwargs: additional arguments to pass to the training methods\u001b[39;00m\n\u001b[0;32m    873\u001b[0m \u001b[38;5;124;03m    \"\"\"\u001b[39;00m\n\u001b[1;32m--> 874\u001b[0m     \u001b[38;5;28;01massert\u001b[39;00m labeled_sequences \u001b[38;5;129;01mor\u001b[39;00m unlabeled_sequences\n\u001b[0;32m    875\u001b[0m     model \u001b[38;5;241m=\u001b[39m \u001b[38;5;28;01mNone\u001b[39;00m\n\u001b[0;32m    876\u001b[0m     \u001b[38;5;28;01mif\u001b[39;00m labeled_sequences:\n",
      "\u001b[1;31mAssertionError\u001b[0m: "
     ]
    }
   ],
   "source": [
    "trainer = HiddenMarkovModelTrainer()\n",
    "hmm_model = trainer.train(data)\n",
    "text = "
   ]
  },
  {
   "cell_type": "code",
   "execution_count": null,
   "id": "7212aafa",
   "metadata": {},
   "outputs": [],
   "source": []
  }
 ],
 "metadata": {
  "kernelspec": {
   "display_name": "Python 3 (ipykernel)",
   "language": "python",
   "name": "python3"
  },
  "language_info": {
   "codemirror_mode": {
    "name": "ipython",
    "version": 3
   },
   "file_extension": ".py",
   "mimetype": "text/x-python",
   "name": "python",
   "nbconvert_exporter": "python",
   "pygments_lexer": "ipython3",
   "version": "3.11.5"
  }
 },
 "nbformat": 4,
 "nbformat_minor": 5
}
